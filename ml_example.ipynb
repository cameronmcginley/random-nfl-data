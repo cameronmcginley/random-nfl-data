{
 "cells": [
  {
   "cell_type": "code",
   "execution_count": 58,
   "metadata": {},
   "outputs": [],
   "source": [
    "# This is an example of a machine learning project\n",
    "# The goal is to predict the state someone was born based on their career passing yards\n",
    "# There is probably no correlation here whatsoever, so the model will likely not be \n",
    "# very accurate. But this goes to show you can build a model for whatever you want and\n",
    "# see if it works"
   ]
  },
  {
   "cell_type": "code",
   "execution_count": null,
   "metadata": {},
   "outputs": [],
   "source": [
    "import pandas as pd\n",
    "import numpy as np\n",
    "import matplotlib.pyplot as plt"
   ]
  },
  {
   "cell_type": "code",
   "execution_count": 59,
   "metadata": {},
   "outputs": [],
   "source": [
    "# Read into dataframes \"Basic_Stats.csv\" and \"Career_Stats_Passing.csv\"\n",
    "basic_stats = pd.read_csv(\"./data/Basic_Stats.csv\")\n",
    "passing_stats = pd.read_csv(\"./data/Career_Stats_Passing.csv\")\n",
    "\n",
    "# Merge the two dataframes into one dataframe\n",
    "merged = pd.merge(basic_stats, passing_stats, on=\"Player Id\")"
   ]
  },
  {
   "cell_type": "code",
   "execution_count": 60,
   "metadata": {},
   "outputs": [],
   "source": [
    "# Split \"Birth Place\" column into \"City\" and \"State\" columns\n",
    "merged[['BirthCity', 'BirthState']] = merged['Birth Place'].str.split(' , ', expand=True)\n",
    "\n",
    "# Drop \"Birth Place\" column\n",
    "merged.drop('Birth Place', axis=1, inplace=True)\n",
    "\n",
    "# List of US States\n",
    "states = ['Alabama', 'Alaska', 'Arizona', 'Arkansas', 'California', 'Colorado', 'Connecticut', 'Delaware',\n",
    "            'Florida', 'Georgia', 'Hawaii', 'Idaho', 'Illinois', 'Indiana', 'Iowa', 'Kansas', 'Kentucky',\n",
    "            'Louisiana', 'Maine', 'Maryland', 'Massachusetts', 'Michigan', 'Minnesota', 'Mississippi',\n",
    "            'Missouri', 'Montana', 'Nebraska', 'Nevada', 'New Hampshire', 'New Jersey', 'New Mexico',\n",
    "            'New York', 'North Carolina', 'North Dakota', 'Ohio', 'Oklahoma', 'Oregon', 'Pennsylvania',\n",
    "            'Rhode Island', 'South Carolina', 'South Dakota', 'Tennessee', 'Texas', 'Utah', 'Vermont',\n",
    "            'Virginia', 'Washington', 'West Virginia', 'Wisconsin', 'Wyoming']\n",
    "states_abbrev = ['AL', 'AK', 'AZ', 'AR', 'CA', 'CO', 'CT', 'DE', 'FL', 'GA',\n",
    "            'HI', 'ID', 'IL', 'IN', 'IA', 'KS', 'KY', 'LA', 'ME', 'MD',\n",
    "            'MA', 'MI', 'MN', 'MS', 'MO', 'MT', 'NE', 'NV', 'NH', 'NJ',\n",
    "            'NM', 'NY', 'NC', 'ND', 'OH', 'OK', 'OR', 'PA', 'RI', 'SC',\n",
    "            'SD', 'TN', 'TX', 'UT', 'VT', 'VA', 'WA', 'WV', 'WI', 'WY']\n",
    "\n",
    "# For BirthState col, replace state name with state abbreviation\n",
    "# This is because sometimes lists New York, sometimes NY, so make it consisten\n",
    "merged['BirthState'] = merged['BirthState'].replace(states, states_abbrev)"
   ]
  },
  {
   "cell_type": "code",
   "execution_count": 61,
   "metadata": {},
   "outputs": [],
   "source": [
    "# Some data cleanup and preprocessing\n",
    "\n",
    "# For passing yards, replace \"--\" with 0\n",
    "merged['Passing Yards'] = merged['Passing Yards'].replace('--', 0)\n",
    "\n",
    "# Remove non numeric chars from passing yards\n",
    "merged['Passing Yards'] = merged['Passing Yards'].str.replace(',', '')\n",
    "merged['Passing Yards'] = merged['Passing Yards'].str.replace('\"', '')\n",
    "\n",
    "merged['Passing Yards'] = merged['Passing Yards'].fillna(0)\n",
    "\n",
    "# Convert passing yards col to int\n",
    "merged['Passing Yards'] = merged['Passing Yards'].astype(int)"
   ]
  },
  {
   "cell_type": "code",
   "execution_count": 62,
   "metadata": {},
   "outputs": [
    {
     "name": "stdout",
     "output_type": "stream",
     "text": [
      "Index(['Age', 'Birthday', 'College', 'Current Status', 'Current Team',\n",
      "       'Experience', 'Height (inches)', 'High School', 'High School Location',\n",
      "       'Name_x', 'Number', 'Player Id', 'Position_x', 'Weight (lbs)',\n",
      "       'Years Played', 'Name_y', 'Position_y', 'Year', 'Team', 'Games Played',\n",
      "       'Passes Attempted', 'Passes Completed', 'Completion Percentage',\n",
      "       'Pass Attempts Per Game', 'Passing Yards', 'Passing Yards Per Attempt',\n",
      "       'Passing Yards Per Game', 'TD Passes', 'Percentage of TDs per Attempts',\n",
      "       'Ints', 'Int Rate', 'Longest Pass', 'Passes Longer than 20 Yards',\n",
      "       'Passes Longer than 40 Yards', 'Sacks', 'Sacked Yards Lost',\n",
      "       'Passer Rating', 'BirthCity', 'BirthState'],\n",
      "      dtype='object')\n",
      "0       WY\n",
      "1       WY\n",
      "2       WY\n",
      "3       IA\n",
      "4       IA\n",
      "        ..\n",
      "8520    NC\n",
      "8521    NC\n",
      "8522    NC\n",
      "8523    NC\n",
      "8524    NC\n",
      "Name: BirthState, Length: 8525, dtype: object\n",
      "0         0\n",
      "1         0\n",
      "2       108\n",
      "3         0\n",
      "4       159\n",
      "       ... \n",
      "8520      0\n",
      "8521      0\n",
      "8522      0\n",
      "8523      0\n",
      "8524      0\n",
      "Name: Passing Yards, Length: 8525, dtype: int32\n"
     ]
    }
   ],
   "source": [
    "# Aggreate total number of passing yards per player id\n",
    "merged.groupby(['Player Id'], as_index=False).agg({'Passing Yards': 'sum', 'BirthState': 'first'})\n",
    "\n",
    "print(merged.keys())\n",
    "print(merged['BirthState'])\n",
    "print(merged['Passing Yards'])\n",
    "\n",
    "# Drop any remaining NA cols from birthstate and passing yards\n",
    "merged = merged.dropna(subset=['BirthState', 'Passing Yards'])\n",
    "\n",
    "# Dictionary assigning US state abbrev to int\n",
    "state_dict = {'AL': 1, 'AK': 2, 'AZ': 3, 'AR': 4, 'CA': 5, 'CO': 6, 'CT': 7, 'DE': 8, 'FL': 9, 'GA': 10,\n",
    "            'HI': 11, 'ID': 12, 'IL': 13, 'IN': 14, 'IA': 15, 'KS': 16, 'KY': 17, 'LA': 18, 'ME': 19, 'MD': 20,\n",
    "            'MA': 21, 'MI': 22, 'MN': 23, 'MS': 24, 'MO': 25, 'MT': 26, 'NE': 27, 'NV': 28, 'NH': 29, 'NJ': 30,\n",
    "            'NM': 31, 'NY': 32, 'NC': 33, 'ND': 34, 'OH': 35, 'OK': 36, 'OR': 37, 'PA': 38, 'RI': 39, 'SC': 40,\n",
    "            'SD': 41, 'TN': 42, 'TX': 43, 'UT': 44, 'VT': 45, 'VA': 46, 'WA': 47, 'WV': 48, 'WI': 49, 'WY': 50}\n",
    "\n",
    "# Add column to merged df with int value of state\n",
    "# ML models only work on numerical data, so we need to convert state to int\n",
    "# There are lots of ways to do this, like Word2Vec, but for simplicity we will use a dictionary\n",
    "merged['StateInt'] = merged['BirthState'].map(state_dict)\n",
    "#dropna from stateint\n",
    "merged = merged.dropna(subset=['StateInt'])"
   ]
  },
  {
   "cell_type": "code",
   "execution_count": 63,
   "metadata": {},
   "outputs": [
    {
     "name": "stdout",
     "output_type": "stream",
     "text": [
      "KNeighborsClassifier(n_neighbors=3)\n",
      "Cross Validation Accuracy: 8.4%\n",
      "\n",
      "DecisionTreeClassifier()\n",
      "Cross Validation Accuracy: 10.746%\n",
      "\n",
      "GaussianNB()\n",
      "Cross Validation Accuracy: 5.09%\n",
      "\n",
      "RandomForestClassifier()\n",
      "Cross Validation Accuracy: 10.602%\n",
      "\n",
      "GradientBoostingClassifier()\n",
      "Cross Validation Accuracy: 9.555%\n",
      "\n"
     ]
    }
   ],
   "source": [
    "# Given number of passing yards, ml model to predict their birth state\n",
    "# X = passing yards, y = birth state\n",
    "X = merged[\"Passing Yards\"].values.reshape(-1, 1)\n",
    "y = merged[\"StateInt\"].values.reshape(-1, 1)\n",
    "\n",
    "# Split data into training and testing sets\n",
    "from sklearn.model_selection import train_test_split\n",
    "X_train, X_test, y_train, y_test = train_test_split(X, y)\n",
    "\n",
    "# Create linear regression model\n",
    "from sklearn.linear_model import LinearRegression\n",
    "model = LinearRegression()\n",
    "\n",
    "# Predicting what state someone is from is a multi-class classification task\n",
    "# Popular ML models for this are:\n",
    "# k-Nearest Neighbors.\n",
    "# Decision Trees.\n",
    "# Naive Bayes.\n",
    "# Random Forest.\n",
    "# Gradient Boosting.\n",
    "\n",
    "# Perform 5 fold cross validation on each model\n",
    "from sklearn.model_selection import cross_val_score\n",
    "from sklearn.neighbors import KNeighborsClassifier\n",
    "from sklearn.tree import DecisionTreeClassifier\n",
    "from sklearn.naive_bayes import GaussianNB\n",
    "from sklearn.ensemble import RandomForestClassifier, GradientBoostingClassifier\n",
    "\n",
    "# Ignore warnings\n",
    "import warnings\n",
    "warnings.filterwarnings('ignore') \n",
    "\n",
    "models = [KNeighborsClassifier(n_neighbors=3), DecisionTreeClassifier(), GaussianNB(), RandomForestClassifier(), GradientBoostingClassifier()]\n",
    "\n",
    "for model in models:\n",
    "    scores = cross_val_score(model, X, y, cv=5)\n",
    "    print(model)\n",
    "    print(f\"Cross Validation Accuracy: {round(scores.mean()*100, 3)}%\\n\")\n"
   ]
  },
  {
   "cell_type": "code",
   "execution_count": 64,
   "metadata": {},
   "outputs": [],
   "source": [
    "# Are these models any good?\n",
    "# After all, it seems like there would hardly be any correlation between passing yards and birth state\n",
    "# Lets build a model where we just randomly guess\n",
    "\n",
    "# 3 methods:\n",
    "# 1. Randomly guess a state (2% chance of being right)\n",
    "# 2. Guess the most common state (chance of being right equal to most popular state)\n",
    "# 3. Get probabilities of each state, then randomly guess based on those probabilities"
   ]
  },
  {
   "cell_type": "code",
   "execution_count": 65,
   "metadata": {},
   "outputs": [
    {
     "name": "stdout",
     "output_type": "stream",
     "text": [
      "Random State Model Average Accuracy: 2.021%\n",
      "\n"
     ]
    }
   ],
   "source": [
    "# Method 1\n",
    "# Build model that randomly guesses a state\n",
    "import random\n",
    "random.seed(42)\n",
    "\n",
    "# Get list of all states\n",
    "states = merged['StateInt'].unique()\n",
    "\n",
    "# Get number of rows in test set\n",
    "num_rows = len(X_test)\n",
    "\n",
    "# Calculate accuracy of random state model\n",
    "from sklearn.metrics import accuracy_score\n",
    "\n",
    "# Avg score from 5 random tests\n",
    "random_scores = []\n",
    "for _ in range(5):\n",
    "    random_states = [random.choice(states) for _ in range(num_rows)]\n",
    "    random_scores.append(accuracy_score(y_test, random_states))\n",
    "\n",
    "print(f\"Random State Model Average Accuracy: {round(np.mean(random_scores)*100, 3)}%\\n\")"
   ]
  },
  {
   "cell_type": "code",
   "execution_count": 73,
   "metadata": {},
   "outputs": [
    {
     "name": "stdout",
     "output_type": "stream",
     "text": [
      "CA    0.129483\n",
      "Name: BirthState, dtype: float64\n",
      "\n",
      "Most Common State Model Accuracy: 12.948%\n",
      "\n"
     ]
    }
   ],
   "source": [
    "# Method 2\n",
    "\n",
    "# Get percent of people from each state\n",
    "state_counts = merged['BirthState'].value_counts(normalize=True)\n",
    "print(state_counts.head(1))\n",
    "\n",
    "# So guessing CA for everything would give 12.948% accuracy\n",
    "# ML models may learn this, so you have to do a lot of testing as well as \n",
    "# understanding the data to see if the model is actually learning anything\n",
    "\n",
    "print(f\"\\nMost Common State Model Accuracy: {round(state_counts[0]*100, 3)}%\\n\")"
   ]
  },
  {
   "cell_type": "code",
   "execution_count": 67,
   "metadata": {},
   "outputs": [
    {
     "name": "stdout",
     "output_type": "stream",
     "text": [
      "Random State Model Average Accuracy: 3.109%\n",
      "\n"
     ]
    }
   ],
   "source": [
    "# Method 3\n",
    "# Use those probabilities to randomly guess a state\n",
    "# This is called a multinomial distribution\n",
    "\n",
    "# Get probabilities of each state\n",
    "state_probs = merged['BirthState'].value_counts(normalize=True).values\n",
    "\n",
    "# Get list of all states\n",
    "states = merged['StateInt'].unique()\n",
    "\n",
    "# Get number of rows in test set\n",
    "num_rows = len(X_test)\n",
    "\n",
    "# Calculate accuracy of random state model\n",
    "from sklearn.metrics import accuracy_score\n",
    "\n",
    "# Avg score from 5 random tests\n",
    "random_scores = []\n",
    "for _ in range(5):\n",
    "    random_states = [random.choices(states, weights=state_probs)[0] for _ in range(num_rows)]\n",
    "    random_scores.append(accuracy_score(y_test, random_states))\n",
    "\n",
    "print(f\"Random State Model Average Accuracy: {round(np.mean(random_scores)*100, 3)}%\\n\")"
   ]
  }
 ],
 "metadata": {
  "kernelspec": {
   "display_name": "Python 3",
   "language": "python",
   "name": "python3"
  },
  "language_info": {
   "codemirror_mode": {
    "name": "ipython",
    "version": 3
   },
   "file_extension": ".py",
   "mimetype": "text/x-python",
   "name": "python",
   "nbconvert_exporter": "python",
   "pygments_lexer": "ipython3",
   "version": "3.9.5"
  },
  "orig_nbformat": 4
 },
 "nbformat": 4,
 "nbformat_minor": 2
}
